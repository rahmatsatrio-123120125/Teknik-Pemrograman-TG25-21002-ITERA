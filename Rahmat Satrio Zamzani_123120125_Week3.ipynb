{
 "cells": [
  {
   "cell_type": "markdown",
   "id": "09b3d213",
   "metadata": {},
   "source": [
    "Fungsi tanpa return"
   ]
  },
  {
   "cell_type": "code",
   "execution_count": null,
   "id": "0fbb2e55",
   "metadata": {},
   "outputs": [],
   "source": [
    "def sapa(nama):\n",
    "  print(f\"Hallo {nama}, selamat pagi!\")"
   ]
  },
  {
   "cell_type": "code",
   "execution_count": null,
   "id": "0ccd42e1",
   "metadata": {},
   "outputs": [],
   "source": [
    "nama = \"Boy\"\n",
    "sapa(nama)"
   ]
  },
  {
   "cell_type": "markdown",
   "id": "8beeb93d",
   "metadata": {},
   "source": [
    "Fungsi return"
   ]
  },
  {
   "cell_type": "code",
   "execution_count": null,
   "id": "aab0c039",
   "metadata": {},
   "outputs": [],
   "source": [
    "def luas_persegi(sisi):\n",
    "  luas = sisi*sisi\n",
    "  return luas"
   ]
  },
  {
   "cell_type": "code",
   "execution_count": null,
   "id": "03fb49a5",
   "metadata": {},
   "outputs": [],
   "source": [
    "hasil = luas_persegi(4)\n",
    "\n",
    "print(hasil)"
   ]
  },
  {
   "cell_type": "markdown",
   "id": "f8cb07a4",
   "metadata": {},
   "source": [
    "Fungsi parameter defaults"
   ]
  },
  {
   "cell_type": "code",
   "execution_count": null,
   "id": "e9c963e3",
   "metadata": {},
   "outputs": [],
   "source": [
    "F = G*(m1*m2/r**2)"
   ]
  },
  {
   "cell_type": "code",
   "execution_count": null,
   "id": "bdd8da06",
   "metadata": {},
   "outputs": [],
   "source": [
    "def gaya_gravitasi(m1, m2, r, G=6.7e-11):\n",
    "  F = G*(m1*m2/r**2)\n",
    "  return F"
   ]
  },
  {
   "cell_type": "code",
   "execution_count": null,
   "id": "12aa4984",
   "metadata": {},
   "outputs": [],
   "source": [
    "gaya_gravitasi(100, 200, 0.1)"
   ]
  },
  {
   "cell_type": "markdown",
   "id": "f012ddf5",
   "metadata": {},
   "source": [
    "Fungsi dengan pointer"
   ]
  },
  {
   "cell_type": "code",
   "execution_count": null,
   "id": "78c35757",
   "metadata": {},
   "outputs": [],
   "source": [
    "def total(*args):\n",
    "  return sum(args)"
   ]
  },
  {
   "cell_type": "code",
   "execution_count": null,
   "id": "e2b58d95",
   "metadata": {},
   "outputs": [],
   "source": [
    "args = total(1, 2, 3, 4)"
   ]
  },
  {
   "cell_type": "code",
   "execution_count": null,
   "id": "f98e7df9",
   "metadata": {},
   "outputs": [],
   "source": [
    "print(args)"
   ]
  },
  {
   "cell_type": "markdown",
   "id": "624b4cdd",
   "metadata": {},
   "source": [
    "Challenge"
   ]
  },
  {
   "cell_type": "code",
   "execution_count": null,
   "id": "bcff300b",
   "metadata": {},
   "outputs": [],
   "source": [
    "Harga = 120.000\n",
    "Harga > 100.000 -> 20%\n",
    "\n",
    "Buat fungsi untuk mengembalikan harga akhir setelah dipotong"
   ]
  },
  {
   "cell_type": "code",
   "execution_count": null,
   "id": "558def9b",
   "metadata": {},
   "outputs": [],
   "source": [
    "def harga_diskon(harga, min_harga=100000, diskon=20):\n",
    "  if harga > min_harga:\n",
    "    potongan_harga = (diskon*harga)/100\n",
    "  else:\n",
    "    potongan_harga = 0\n",
    "  return harga - potongan_harga"
   ]
  },
  {
   "cell_type": "code",
   "execution_count": null,
   "id": "a5910379",
   "metadata": {},
   "outputs": [],
   "source": [
    "harga_diskon(520000)"
   ]
  },
  {
   "cell_type": "markdown",
   "id": "21b2047b",
   "metadata": {},
   "source": [
    "Lambda"
   ]
  },
  {
   "cell_type": "code",
   "execution_count": null,
   "id": "4c8596c0",
   "metadata": {},
   "outputs": [],
   "source": [
    "luas = lambda sisi : sisi*sisi\n",
    "\n",
    "print(luas(10))"
   ]
  },
  {
   "cell_type": "markdown",
   "id": "7226f8ed",
   "metadata": {},
   "source": [
    "Scope"
   ]
  },
  {
   "cell_type": "code",
   "execution_count": null,
   "id": "09e1be7b",
   "metadata": {},
   "outputs": [],
   "source": [
    "x = 10\n",
    "\n",
    "def ubah():\n",
    "  global x\n",
    "  x = 30\n",
    "\n",
    "ubah()\n",
    "print(x)"
   ]
  }
 ],
 "metadata": {
  "kernelspec": {
   "display_name": "Python 3",
   "language": "python",
   "name": "python3"
  },
  "language_info": {
   "name": "python",
   "version": "3.12.0"
  }
 },
 "nbformat": 4,
 "nbformat_minor": 5
}
